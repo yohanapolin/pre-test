{
 "cells": [
  {
   "cell_type": "markdown",
   "metadata": {},
   "source": [
    "# Test Notebook\n",
    "\n",
    "This notebook contains code function to check whether your jupyter notebook run successfully or not.\n",
    "\n",
    "How to execute :\n",
    "1. Run this following two cells sequentially by pressing icon \"Run\" on the upper left notebook\n",
    "2. If the second cell shows output \"Congratz, You're good to go\", then your jupyter notebook works properly\n",
    "3. If no, don't mind it. You can ask our teaching assistant in 30 minutes session before class started on 2 November 2020."
   ]
  },
  {
   "cell_type": "code",
   "execution_count": 1,
   "metadata": {
    "ExecuteTime": {
     "end_time": "2021-01-26T11:12:32.796654Z",
     "start_time": "2021-01-26T11:12:32.784730Z"
    }
   },
   "outputs": [],
   "source": [
    "def test_notebook():\n",
    "    logs = []\n",
    "    err_log = []\n",
    "    warns = []\n",
    "    versions = {}\n",
    "    success = True\n",
    "    try :\n",
    "        import numpy as np\n",
    "        logs.append('succesfully load numpy')\n",
    "        versions['numpy'] = np.__version__\n",
    "    except:\n",
    "        logs.append('failed to load numpy')\n",
    "        err_log.append('numpy')\n",
    "        versions['numpy'] = -1\n",
    "    try :\n",
    "        import pandas as pd\n",
    "        logs.append('succesfully load pandas')\n",
    "        versions['pandas'] = pd.__version__\n",
    "    except:\n",
    "        logs.append('failed to load pandas')\n",
    "        err_log.append('pandas')\n",
    "    try :\n",
    "        import matplotlib \n",
    "        logs.append('succesfully load matplotlib')\n",
    "        versions['matplotlib'] = matplotlib.__version__\n",
    "    except:\n",
    "        logs.append('failed to load matplotlib')\n",
    "        err_log.append('matplotlib')\n",
    "    try :\n",
    "        import scipy\n",
    "        logs.append('succesfully load scipy')\n",
    "        versions['scipy'] = scipy.__version__\n",
    "    except:\n",
    "        logs.append('failed to load scipy')\n",
    "        err_log.append('scipy')\n",
    "    if 'pandas' in versions.keys():\n",
    "        ver = int(versions['pandas'][0])\n",
    "        if ver == 0 :\n",
    "            warns.append(\"pandas versions is below 1.x. We strongly recommend to upgrade to the lates version\")\n",
    "    if len(err_log):\n",
    "        success= False\n",
    "        print('we have problem in loading these libraries :')\n",
    "        for err in err_log:\n",
    "              print(err)\n",
    "    if len(warns):\n",
    "        success= False\n",
    "        for warn in warns:\n",
    "              print('Warning: ', warn)\n",
    "    if success:\n",
    "        print(\"Congratz, You're good to go\")"
   ]
  },
  {
   "cell_type": "code",
   "execution_count": 2,
   "metadata": {
    "ExecuteTime": {
     "end_time": "2021-01-26T11:12:37.297254Z",
     "start_time": "2021-01-26T11:12:35.251630Z"
    }
   },
   "outputs": [
    {
     "name": "stdout",
     "output_type": "stream",
     "text": [
      "Congratz, You're good to go\n"
     ]
    }
   ],
   "source": [
    "test_notebook()"
   ]
  }
 ],
 "metadata": {
  "kernelspec": {
   "display_name": "dataanalytics",
   "language": "python",
   "name": "dataanalytics"
  },
  "language_info": {
   "codemirror_mode": {
    "name": "ipython",
    "version": 3
   },
   "file_extension": ".py",
   "mimetype": "text/x-python",
   "name": "python",
   "nbconvert_exporter": "python",
   "pygments_lexer": "ipython3",
   "version": "3.8.5"
  },
  "toc": {
   "base_numbering": 1,
   "nav_menu": {},
   "number_sections": true,
   "sideBar": true,
   "skip_h1_title": false,
   "title_cell": "Table of Contents",
   "title_sidebar": "Contents",
   "toc_cell": false,
   "toc_position": {},
   "toc_section_display": true,
   "toc_window_display": false
  }
 },
 "nbformat": 4,
 "nbformat_minor": 4
}
